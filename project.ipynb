{
 "cells": [
  {
   "cell_type": "markdown",
   "metadata": {},
   "source": [
    "# Mod 3 Project\n",
    "\n",
    "## Introduction\n",
    "The goal of this project is to explore and query the Northwind database, formulate at least four separate hypotheses, and perform statistical analysis to draw a conclusion about each hypothesis.\n",
    "\n",
    "### Database Schema:\n",
    "<img src=\"Northwind_ERD_updated.png\" width=80%>"
   ]
  },
  {
   "cell_type": "markdown",
   "metadata": {},
   "source": [
    "## Questions\n",
    "The four questions I'm basing my hypotheses on are:<br>\n",
    "- [**Q1**](###Question-1) : Does discount amount have a statistically significant effect on the quantity of a product in an order? If so, at what level(s) of discount?<br>\n",
    "- [**Q2**](###Question-2): Do employees have a statistically significant effect on order values? If so, does the employee's region have a statistically significant effect?<br>\n",
    "- [**Q3**](###Question-3): Does the customer's region have a statistically significant impact on the amount of orders they submit?<br>\n",
    "- [**Q4**](###Question-4): Did items that are now discontinued have a statistically significant difference on order values?<br>\n",
    "\n",
    "## Methodology\n",
    "With each question, I formulated at least one Null Hypothesis and at least one Alternate Hypothesis. From there I gathered the data using a combination of SQL and Pandas to group it appropriately and make it more easily readable and pliable. I then created a few visualizations to allow an eyeballing of the data, and determined the normality of the distributions.<br>\n",
    "\n",
    "From there, if necessary, I pulled sample distributions to improve the normality, double-checked it, then checked the variances to determine which T-Test would best fit that dataset. I then ran the necessary tests including Student's T-Test, Welch's T-Test, ANOVA, and TUKEY to determine whether or not the Null Hypothesis was rejected. Finally, I formed my conclusion and recommendations based on the results of those tests, including any secondary run-throughs of the data if more than one hypothesis was formulated to answer the initial question."
   ]
  },
  {
   "cell_type": "markdown",
   "metadata": {},
   "source": [
    "## Question Breakdown"
   ]
  },
  {
   "cell_type": "markdown",
   "metadata": {},
   "source": [
    "### Question 1: Does discount amount have a statistically significant effect on the quantity of a product in an order? If so, at what level(s) of discount?\n",
    "\n",
    "**Hypothesis**:<br>\n",
    "H0: Discount Amount has no statistically significant effect on the quantity of a product in an order.<br>\n",
    "HA: Discount Amount does have a statistically significant effect on the quantity of a product in an order.<br>"
   ]
  },
  {
   "cell_type": "markdown",
   "metadata": {},
   "source": [
    "### Question 2: Do employees have a statistically significant effect on order values? If so, does the employee's region have a statistically significant effect?\n",
    "\n",
    "**Hypothesis 1**:<br>\n",
    "H0: Different Employees have no statistically significant effect on order values.<br>\n",
    "HA: Different Employees have a statistically significant effect on order values.<br>\n",
    "\n",
    "**Hypothesis 2**:<br>\n",
    "H0: Employee Region has no statistically significant effect on order values.<br>\n",
    "HA: Employee Region has a statistically significant effect on order values.<br>"
   ]
  },
  {
   "cell_type": "markdown",
   "metadata": {},
   "source": [
    "### Question 3: Does the customer's region have a statistically significant impact on the amount of orders they submit?\n",
    "\n",
    "**Hypothesis 1**:<br>\n",
    "H0: Customer Region has no statistically significant effect on number of orders.<br>\n",
    "HA: Customer Region has a statistically significant effect on number of orders.<br>"
   ]
  },
  {
   "cell_type": "markdown",
   "metadata": {},
   "source": [
    "### Question 4: Did items that are now discontinued have a statistically significant difference on order values?\n",
    "\n",
    "**Hypothesis 1**:<br>\n",
    "H0: Discontinued items have no statistically significant effect on order value.<br>\n",
    "HA: Discontinued items have a statistically significant effect on order value.<br>"
   ]
  },
  {
   "cell_type": "markdown",
   "metadata": {},
   "source": [
    "[Back to Introduction](##Introduction)"
   ]
  },
  {
   "cell_type": "code",
   "execution_count": null,
   "metadata": {},
   "outputs": [],
   "source": []
  }
 ],
 "metadata": {
  "celltoolbar": "Raw Cell Format",
  "kernelspec": {
   "display_name": "learn-env",
   "language": "python",
   "name": "learn-env"
  },
  "language_info": {
   "codemirror_mode": {
    "name": "ipython",
    "version": 3
   },
   "file_extension": ".py",
   "mimetype": "text/x-python",
   "name": "python",
   "nbconvert_exporter": "python",
   "pygments_lexer": "ipython3",
   "version": "3.6.6"
  },
  "toc": {
   "base_numbering": 1,
   "nav_menu": {},
   "number_sections": true,
   "sideBar": true,
   "skip_h1_title": false,
   "title_cell": "Table of Contents",
   "title_sidebar": "Contents",
   "toc_cell": false,
   "toc_position": {},
   "toc_section_display": true,
   "toc_window_display": false
  }
 },
 "nbformat": 4,
 "nbformat_minor": 2
}
