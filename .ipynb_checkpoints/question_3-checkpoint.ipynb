{
 "cells": [
  {
   "cell_type": "markdown",
   "metadata": {},
   "source": [
    "# Question #3:\n",
    "Does the customer's region have a statistically significant impact on the amount of orders they submit?\n",
    "\n",
    "### Library and Data Import"
   ]
  },
  {
   "cell_type": "code",
   "execution_count": 176,
   "metadata": {},
   "outputs": [
    {
     "data": {
      "text/plain": [
       "<module 'flatiron_stats' from 'C:\\\\Users\\\\Drew\\\\flatiron-ds-course\\\\Mod-3\\\\dsc-mod-3-project-online-ds-ft-090919\\\\flatiron_stats.py'>"
      ]
     },
     "execution_count": 176,
     "metadata": {},
     "output_type": "execute_result"
    }
   ],
   "source": [
    "import warnings; warnings.simplefilter('ignore')\n",
    "import pandas as pd\n",
    "import numpy as np\n",
    "import statsmodels.api as sm\n",
    "import statsmodels.stats.api as sms\n",
    "import statsmodels.formula.api as smf\n",
    "import statsmodels.stats.multicomp as smc\n",
    "import matplotlib.pyplot as plt\n",
    "import seaborn as sns\n",
    "import scipy.stats as stats\n",
    "plt.style.use('ggplot')\n",
    "import sqlite3\n",
    "from importlib import reload\n",
    "from itertools import combinations\n",
    "from statsmodels.stats.power import tt_ind_solve_power\n",
    "\n",
    "#Pulling functions generated throughout the course of the module to assist with some of the testing.\n",
    "import flatiron_stats as fs\n",
    "\n",
    "#Setting significance level:\n",
    "a = 0.05\n",
    "reload(fs)"
   ]
  },
  {
   "cell_type": "code",
   "execution_count": 165,
   "metadata": {},
   "outputs": [],
   "source": [
    "conn = sqlite3.connect('Northwind_small.sqlite')\n",
    "cur = conn.cursor()"
   ]
  },
  {
   "cell_type": "markdown",
   "metadata": {},
   "source": [
    "### Hypothesis\n",
    "H0: Customer Region has no statistically significant effect on number of orders.<br>\n",
    "HA: Customer Region has a statistically significant effect on number of orders.<br>\n",
    "\n",
    "### Gathering Data"
   ]
  },
  {
   "cell_type": "code",
   "execution_count": 87,
   "metadata": {},
   "outputs": [
    {
     "data": {
      "text/html": [
       "<div>\n",
       "<style scoped>\n",
       "    .dataframe tbody tr th:only-of-type {\n",
       "        vertical-align: middle;\n",
       "    }\n",
       "\n",
       "    .dataframe tbody tr th {\n",
       "        vertical-align: top;\n",
       "    }\n",
       "\n",
       "    .dataframe thead th {\n",
       "        text-align: right;\n",
       "    }\n",
       "</style>\n",
       "<table border=\"1\" class=\"dataframe\">\n",
       "  <thead>\n",
       "    <tr style=\"text-align: right;\">\n",
       "      <th></th>\n",
       "      <th>NumCustomers</th>\n",
       "      <th>NumOrders</th>\n",
       "      <th>CustomerRegion</th>\n",
       "      <th>AvgOrderPerCustomer</th>\n",
       "    </tr>\n",
       "  </thead>\n",
       "  <tbody>\n",
       "    <tr>\n",
       "      <th>0</th>\n",
       "      <td>8</td>\n",
       "      <td>75</td>\n",
       "      <td>British Isles</td>\n",
       "      <td>9</td>\n",
       "    </tr>\n",
       "    <tr>\n",
       "      <th>1</th>\n",
       "      <td>4</td>\n",
       "      <td>21</td>\n",
       "      <td>Central America</td>\n",
       "      <td>5</td>\n",
       "    </tr>\n",
       "    <tr>\n",
       "      <th>2</th>\n",
       "      <td>1</td>\n",
       "      <td>7</td>\n",
       "      <td>Eastern Europe</td>\n",
       "      <td>7</td>\n",
       "    </tr>\n",
       "    <tr>\n",
       "      <th>3</th>\n",
       "      <td>16</td>\n",
       "      <td>152</td>\n",
       "      <td>North America</td>\n",
       "      <td>9</td>\n",
       "    </tr>\n",
       "    <tr>\n",
       "      <th>4</th>\n",
       "      <td>4</td>\n",
       "      <td>55</td>\n",
       "      <td>Northern Europe</td>\n",
       "      <td>13</td>\n",
       "    </tr>\n",
       "    <tr>\n",
       "      <th>5</th>\n",
       "      <td>3</td>\n",
       "      <td>28</td>\n",
       "      <td>Scandinavia</td>\n",
       "      <td>9</td>\n",
       "    </tr>\n",
       "    <tr>\n",
       "      <th>6</th>\n",
       "      <td>14</td>\n",
       "      <td>127</td>\n",
       "      <td>South America</td>\n",
       "      <td>9</td>\n",
       "    </tr>\n",
       "    <tr>\n",
       "      <th>7</th>\n",
       "      <td>9</td>\n",
       "      <td>64</td>\n",
       "      <td>Southern Europe</td>\n",
       "      <td>7</td>\n",
       "    </tr>\n",
       "    <tr>\n",
       "      <th>8</th>\n",
       "      <td>26</td>\n",
       "      <td>272</td>\n",
       "      <td>Western Europe</td>\n",
       "      <td>10</td>\n",
       "    </tr>\n",
       "  </tbody>\n",
       "</table>\n",
       "</div>"
      ],
      "text/plain": [
       "   NumCustomers  NumOrders   CustomerRegion  AvgOrderPerCustomer\n",
       "0             8         75    British Isles                    9\n",
       "1             4         21  Central America                    5\n",
       "2             1          7   Eastern Europe                    7\n",
       "3            16        152    North America                    9\n",
       "4             4         55  Northern Europe                   13\n",
       "5             3         28      Scandinavia                    9\n",
       "6            14        127    South America                    9\n",
       "7             9         64  Southern Europe                    7\n",
       "8            26        272   Western Europe                   10"
      ]
     },
     "execution_count": 87,
     "metadata": {},
     "output_type": "execute_result"
    }
   ],
   "source": [
    "query = \"\"\"SELECT COUNT(DISTINCT c.Id) as NumCustomers, COUNT(DISTINCT o.ID) as NumOrders, \n",
    "           c.Region as CustomerRegion, (COUNT(DISTINCT o.Id) / COUNT(DISTINCT c.ID)) as AvgOrderPerCustomer\n",
    "           FROM Customer c\n",
    "           JOIN 'Order' o\n",
    "           ON c.Id = o.CustomerID\n",
    "           GROUP BY 3\n",
    "           \"\"\"\n",
    "pd.read_sql(query, conn)"
   ]
  },
  {
   "cell_type": "markdown",
   "metadata": {},
   "source": [
    "Initial review indicates that there is some difference in the average number of orders per customer based on the region. We'll go ahead and create our dataframe and start running through some visualizations to determine the significance. We may end up grouping the regions into Americas and Europe to have larger data pools for comparison."
   ]
  },
  {
   "cell_type": "code",
   "execution_count": 148,
   "metadata": {},
   "outputs": [
    {
     "name": "stdout",
     "output_type": "stream",
     "text": [
      "51\n"
     ]
    },
    {
     "data": {
      "text/html": [
       "<div>\n",
       "<style scoped>\n",
       "    .dataframe tbody tr th:only-of-type {\n",
       "        vertical-align: middle;\n",
       "    }\n",
       "\n",
       "    .dataframe tbody tr th {\n",
       "        vertical-align: top;\n",
       "    }\n",
       "\n",
       "    .dataframe thead th {\n",
       "        text-align: right;\n",
       "    }\n",
       "</style>\n",
       "<table border=\"1\" class=\"dataframe\">\n",
       "  <thead>\n",
       "    <tr style=\"text-align: right;\">\n",
       "      <th></th>\n",
       "      <th>CustomerID</th>\n",
       "      <th>NumOrders</th>\n",
       "      <th>CustomerRegion</th>\n",
       "      <th>CustomerRegionGroup</th>\n",
       "    </tr>\n",
       "  </thead>\n",
       "  <tbody>\n",
       "    <tr>\n",
       "      <th>0</th>\n",
       "      <td>ALFKI</td>\n",
       "      <td>6</td>\n",
       "      <td>Western Europe</td>\n",
       "      <td>Europe</td>\n",
       "    </tr>\n",
       "    <tr>\n",
       "      <th>1</th>\n",
       "      <td>ANATR</td>\n",
       "      <td>4</td>\n",
       "      <td>Central America</td>\n",
       "      <td>Americas</td>\n",
       "    </tr>\n",
       "    <tr>\n",
       "      <th>2</th>\n",
       "      <td>AROUT</td>\n",
       "      <td>13</td>\n",
       "      <td>British Isles</td>\n",
       "      <td>Europe</td>\n",
       "    </tr>\n",
       "    <tr>\n",
       "      <th>3</th>\n",
       "      <td>BERGS</td>\n",
       "      <td>18</td>\n",
       "      <td>Northern Europe</td>\n",
       "      <td>Europe</td>\n",
       "    </tr>\n",
       "    <tr>\n",
       "      <th>4</th>\n",
       "      <td>BLAUS</td>\n",
       "      <td>7</td>\n",
       "      <td>Western Europe</td>\n",
       "      <td>Europe</td>\n",
       "    </tr>\n",
       "  </tbody>\n",
       "</table>\n",
       "</div>"
      ],
      "text/plain": [
       "  CustomerID  NumOrders   CustomerRegion CustomerRegionGroup\n",
       "0      ALFKI          6   Western Europe              Europe\n",
       "1      ANATR          4  Central America            Americas\n",
       "2      AROUT         13    British Isles              Europe\n",
       "3      BERGS         18  Northern Europe              Europe\n",
       "4      BLAUS          7   Western Europe              Europe"
      ]
     },
     "execution_count": 148,
     "metadata": {},
     "output_type": "execute_result"
    }
   ],
   "source": [
    "query = \"\"\"SELECT c.Id as CustomerID, COUNT(DISTINCT o.ID) as NumOrders, \n",
    "           c.Region as CustomerRegion\n",
    "           FROM Customer c\n",
    "           JOIN 'Order' o\n",
    "           ON c.Id = o.CustomerID\n",
    "           GROUP BY 1\n",
    "           \"\"\"\n",
    "df = pd.read_sql(query, conn)\n",
    "europe_df = pd.DataFrame()\n",
    "americas_df = pd.DataFrame()\n",
    "regiongroup = []\n",
    "for i in range(len(df)):\n",
    "    if df.iloc[i]['CustomerRegion'].find('America') >= 0:\n",
    "        regiongroup.append('Americas')\n",
    "        americas_df = americas_df.append(df.iloc[i])\n",
    "    else:\n",
    "        regiongroup.append('Europe')\n",
    "        europe_df = europe_df.append(df.iloc[i])\n",
    "df['CustomerRegionGroup'] = regiongroup\n",
    "print(len(europe_df))\n",
    "df.head()"
   ]
  },
  {
   "cell_type": "markdown",
   "metadata": {},
   "source": [
    "### Visualizing the Data\n",
    "Exploring the data visually to understand the order values of each region."
   ]
  },
  {
   "cell_type": "code",
   "execution_count": 128,
   "metadata": {},
   "outputs": [
    {
     "data": {
      "text/plain": [
       "<matplotlib.legend.Legend at 0x254c7034240>"
      ]
     },
     "execution_count": 128,
     "metadata": {},
     "output_type": "execute_result"
    },
    {
     "data": {
      "image/png": "[encoded data removed]",
      "text/plain": [
       "<Figure size 936x576 with 1 Axes>"
      ]
     },
     "metadata": {},
     "output_type": "display_data"
    }
   ],
   "source": [
    "plt.figure(figsize = (13, 8))\n",
    "sns.distplot(americas_df.NumOrders, label = 'Americas')\n",
    "sns.distplot(europe_df.NumOrders, label = 'Europe')\n",
    "plt.legend()"
   ]
  },
  {
   "cell_type": "code",
   "execution_count": 150,
   "metadata": {},
   "outputs": [
    {
     "data": {
      "text/plain": [
       "<matplotlib.axes._subplots.AxesSubplot at 0x254d72c6438>"
      ]
     },
     "execution_count": 150,
     "metadata": {},
     "output_type": "execute_result"
    },
    {
     "data": {
      "image/png": "[encoded data removed]",
      "text/plain": [
       "<Figure size 936x576 with 1 Axes>"
      ]
     },
     "metadata": {},
     "output_type": "display_data"
    }
   ],
   "source": [
    "plt.figure(figsize = (13, 8))\n",
    "sns.boxplot(df.CustomerRegionGroup, df.NumOrders)"
   ]
  },
  {
   "cell_type": "markdown",
   "metadata": {},
   "source": [
    "## Hypothesis Testing\n",
    "Since the visualizations and table show that there may not be much of a difference, we'll move on to testing to determine whether or not that difference is of a statistical significance. To answer this question, we will perform an Independent T-Test, however, in order to do that, we must first check a couple of assumptions with our data. 1: Our Distributions are Normal, and 2: Our Distributions' Variances are equal.\n",
    "\n",
    "To restate, our hypothesis is: <br>\n",
    "H0: Customer Region has no statistically significant effect on number of orders.<br>\n",
    "HA: Customer Region has a statistically significant effect on number of orders."
   ]
  },
  {
   "cell_type": "markdown",
   "metadata": {},
   "source": [
    "### Normality\n",
    "While there is a hint of normality to each distribution, they both have some degree of positive skew. To determine normality, we'll run KS (Kolmogorov-Smirnov) and Shapiro tests, using our significance value of 0.05."
   ]
  },
  {
   "cell_type": "code",
   "execution_count": 153,
   "metadata": {},
   "outputs": [
    {
     "name": "stdout",
     "output_type": "stream",
     "text": [
      "KS Test for Europe:\n",
      "Test Statistic: 0.17412883358761477\n",
      "P-Value: 0.08013948072214094\n",
      "Is Normal: True\n",
      "\n",
      "KS Test for Americas:\n",
      "Test Statistic: 0.12102252084466075\n",
      "P-Value: 0.6836717414456377\n",
      "Is Normal: True\n",
      "\n"
     ]
    }
   ],
   "source": [
    "for region in df.CustomerRegionGroup.unique():\n",
    "    data = df[df['CustomerRegionGroup'] == region]['NumOrders']\n",
    "    mu = data.mean()\n",
    "    std = data.std()\n",
    "    stat, p = stats.kstest(data, 'norm', args = (mu, std))\n",
    "    print(f\"KS Test for {region}:\\nTest Statistic: {stat}\\nP-Value: {p}\\nIs Normal: {p > a}\\n\")"
   ]
  },
  {
   "cell_type": "code",
   "execution_count": 154,
   "metadata": {},
   "outputs": [
    {
     "name": "stdout",
     "output_type": "stream",
     "text": [
      "Shapiro Test for Europe:\n",
      "Test Statistic: 0.866019606590271\n",
      "P-Value: 3.693511098390445e-05\n",
      "Is Normal: False\n",
      "\n",
      "Shapiro Test for Americas:\n",
      "Test Statistic: 0.8784148693084717\n",
      "P-Value: 0.001294453744776547\n",
      "Is Normal: False\n",
      "\n"
     ]
    }
   ],
   "source": [
    "for region in df.CustomerRegionGroup.unique():\n",
    "    data = df[df['CustomerRegionGroup'] == region]['NumOrders']\n",
    "    mu = data.mean()\n",
    "    std = data.std()\n",
    "    stat, p = stats.shapiro(data)\n",
    "    print(f\"Shapiro Test for {region}:\\nTest Statistic: {stat}\\nP-Value: {p}\\nIs Normal: {p > a}\\n\")"
   ]
  },
  {
   "cell_type": "markdown",
   "metadata": {},
   "source": [
    "Despite the KS Test showing normality, the Shapiro Test indicates these distributions are not normal, and as it is the more powerful test, we're going to take it's results over the KS test. While a Welch's T-Test is doable with non-normal distributions, in order to better compare each region's effect size, we'll take a number of samples to gather a more normal distribution for each region based on the Central Limit Theorem.\n",
    "\n",
    "### Sampling and Reviewing"
   ]
  },
  {
   "cell_type": "code",
   "execution_count": 159,
   "metadata": {},
   "outputs": [
    {
     "data": {
      "text/plain": [
       "<matplotlib.legend.Legend at 0x254c7aa14a8>"
      ]
     },
     "execution_count": 159,
     "metadata": {},
     "output_type": "execute_result"
    },
    {
     "data": {
      "image/png": "[encoded data removed]",
      "text/plain": [
       "<Figure size 936x576 with 1 Axes>"
      ]
     },
     "metadata": {},
     "output_type": "display_data"
    }
   ],
   "source": [
    "num_samples = 100\n",
    "sample_size = 20\n",
    "plt.figure(figsize = (13, 8))\n",
    "samp_dict = {}\n",
    "for region in df.CustomerRegionGroup.unique():\n",
    "    data = df[df['CustomerRegionGroup'] == region]['NumOrders']\n",
    "    samp_means = []\n",
    "    for n in range(num_samples):\n",
    "        sample = np.random.choice(data, size = sample_size, replace = True)\n",
    "        samp_means.append(sample.mean())\n",
    "    samp_dict[region] = np.array(samp_means)\n",
    "    label = region\n",
    "    sns.distplot(samp_means, label = label)\n",
    "plt.title('Distribution of Sample Mean Number of Orders per Region')\n",
    "plt.legend()"
   ]
  },
  {
   "cell_type": "code",
   "execution_count": 160,
   "metadata": {},
   "outputs": [
    {
     "name": "stdout",
     "output_type": "stream",
     "text": [
      "Shapiro Test for Europe:\n",
      "Test Statistic: 0.985493540763855\n",
      "P-Value: 0.3444950580596924\n",
      "Is Normal: True\n",
      "\n",
      "Shapiro Test for Americas:\n",
      "Test Statistic: 0.9854674935340881\n",
      "P-Value: 0.34303048253059387\n",
      "Is Normal: True\n",
      "\n"
     ]
    }
   ],
   "source": [
    "for region in df.CustomerRegionGroup.unique():\n",
    "    data = samp_dict[region]\n",
    "    stat, p = stats.shapiro(data)\n",
    "    print(f\"Shapiro Test for {region}:\\nTest Statistic: {stat}\\nP-Value: {p}\\nIs Normal: {p > a}\\n\")"
   ]
  },
  {
   "cell_type": "markdown",
   "metadata": {},
   "source": [
    "Now that we've got samples that meet our normality assumption, we need to check their variances and determine whether or not they're equal.\n",
    "\n",
    "### Equal Variance Testing"
   ]
  },
  {
   "cell_type": "code",
   "execution_count": 161,
   "metadata": {},
   "outputs": [
    {
     "name": "stdout",
     "output_type": "stream",
     "text": [
      "p = 0.19822152851814037\n",
      "Therefore the data have equal variances\n"
     ]
    },
    {
     "data": {
      "text/plain": [
       "True"
      ]
     },
     "execution_count": 161,
     "metadata": {},
     "output_type": "execute_result"
    }
   ],
   "source": [
    "fs.test_equal_variances(samp_dict['Americas'], samp_dict['Europe'])"
   ]
  },
  {
   "cell_type": "markdown",
   "metadata": {},
   "source": [
    "As our variances are equal, we'll go ahead and use a Student's T-Test to determine the result of our hypothesis.\n",
    "\n",
    "### Student's T-Test"
   ]
  },
  {
   "cell_type": "code",
   "execution_count": 162,
   "metadata": {},
   "outputs": [
    {
     "data": {
      "text/plain": [
       "Ttest_indResult(statistic=-6.79272087090113, pvalue=1.2571276030446462e-10)"
      ]
     },
     "execution_count": 162,
     "metadata": {},
     "output_type": "execute_result"
    }
   ],
   "source": [
    "stats.ttest_ind(samp_dict['Americas'], samp_dict['Europe'])"
   ]
  },
  {
   "cell_type": "markdown",
   "metadata": {},
   "source": [
    "With a P-Value less than our significance level, we are able to reject our Null Hypothesis, and determine that there is a statistically significant difference in number of orders based on the customer's region. Because of this, we can move on to determining exactly how much difference there is.\n",
    "\n",
    "### Effect Size"
   ]
  },
  {
   "cell_type": "code",
   "execution_count": 179,
   "metadata": {},
   "outputs": [
    {
     "name": "stdout",
     "output_type": "stream",
     "text": [
      "Effect Size (d) for Customer Region Sample Set: 0.9654753037865513\n"
     ]
    }
   ],
   "source": [
    "#Sample Group Effect Sizes\n",
    "d = fs.cohens_d(samp_dict['Europe'], samp_dict['Americas'])\n",
    "print(f'Effect Size (d) for Customer Region Sample Set: {d}')"
   ]
  },
  {
   "cell_type": "markdown",
   "metadata": {},
   "source": [
    "Looking at the sample of means, it does appear that the mean number of orders does vary quite a bit between regions! Next we'll go ahead and calculate our Power to see the likelihood of correctly rejecting our Null Hypothesis.\n",
    "\n",
    "### Power"
   ]
  },
  {
   "cell_type": "code",
   "execution_count": 180,
   "metadata": {},
   "outputs": [
    {
     "data": {
      "text/plain": [
       "0.8449808569501598"
      ]
     },
     "execution_count": 180,
     "metadata": {},
     "output_type": "execute_result"
    }
   ],
   "source": [
    "tt_ind_solve_power(effect_size=d, nobs1=sample_size, alpha=a)"
   ]
  },
  {
   "cell_type": "markdown",
   "metadata": {},
   "source": [
    "## Conclusion\n",
    "After fully testing the sample mean distributions, it does appear that there is a statistically significant difference in number of orders based on customer's region, and with a power of 84.5% we're fairly confident that we are correctly rejecting our Null Hypothesis.\n",
    "\n",
    "Based on the results and an effect size of .97, I would recommend focusing our sales to customers in the European region, as there is a higher chance of generating a sale, and potentially having a repeat customer as well as the average number of orders per customer is higher for Europe, specifically in Northern and Western Europe."
   ]
  },
  {
   "cell_type": "code",
   "execution_count": null,
   "metadata": {},
   "outputs": [],
   "source": []
  }
 ],
 "metadata": {
  "kernelspec": {
   "display_name": "learn-env",
   "language": "python",
   "name": "learn-env"
  },
  "language_info": {
   "codemirror_mode": {
    "name": "ipython",
    "version": 3
   },
   "file_extension": ".py",
   "mimetype": "text/x-python",
   "name": "python",
   "nbconvert_exporter": "python",
   "pygments_lexer": "ipython3",
   "version": "3.6.6"
  },
  "toc": {
   "base_numbering": 1,
   "nav_menu": {},
   "number_sections": true,
   "sideBar": true,
   "skip_h1_title": false,
   "title_cell": "Table of Contents",
   "title_sidebar": "Contents",
   "toc_cell": false,
   "toc_position": {},
   "toc_section_display": true,
   "toc_window_display": false
  }
 },
 "nbformat": 4,
 "nbformat_minor": 2
}
